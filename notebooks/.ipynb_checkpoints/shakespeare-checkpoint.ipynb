{
 "cells": [
  {
   "cell_type": "markdown",
   "metadata": {},
   "source": [
    "First, we import required Python 3 packages and our helper functions."
   ]
  },
  {
   "cell_type": "code",
   "execution_count": 95,
   "metadata": {},
   "outputs": [],
   "source": [
    "import sys\n",
    "sys.path.append('../src/')\n",
    "from funcs import *\n",
    "\n",
    "import re\n",
    "from sklearn.feature_extraction.text import TfidfVectorizer\n",
    "import numpy as np\n",
    "import pandas as pd\n",
    "from matplotlib import pyplot as plt\n",
    "%matplotlib inline"
   ]
  },
  {
   "cell_type": "markdown",
   "metadata": {},
   "source": [
    "Now we load the raw data file into a Pandas DataFrame object and print it to the screen."
   ]
  },
  {
   "cell_type": "code",
   "execution_count": 96,
   "metadata": {},
   "outputs": [
    {
     "data": {
      "text/html": [
       "<div>\n",
       "<style scoped>\n",
       "    .dataframe tbody tr th:only-of-type {\n",
       "        vertical-align: middle;\n",
       "    }\n",
       "\n",
       "    .dataframe tbody tr th {\n",
       "        vertical-align: top;\n",
       "    }\n",
       "\n",
       "    .dataframe thead th {\n",
       "        text-align: right;\n",
       "    }\n",
       "</style>\n",
       "<table border=\"1\" class=\"dataframe\">\n",
       "  <thead>\n",
       "    <tr style=\"text-align: right;\">\n",
       "      <th></th>\n",
       "      <th>Dataline</th>\n",
       "      <th>Play</th>\n",
       "      <th>PlayerLinenumber</th>\n",
       "      <th>ActSceneLine</th>\n",
       "      <th>Player</th>\n",
       "      <th>PlayerLine</th>\n",
       "    </tr>\n",
       "  </thead>\n",
       "  <tbody>\n",
       "    <tr>\n",
       "      <th>0</th>\n",
       "      <td>1</td>\n",
       "      <td>Henry IV</td>\n",
       "      <td>NaN</td>\n",
       "      <td>NaN</td>\n",
       "      <td>NaN</td>\n",
       "      <td>ACT I</td>\n",
       "    </tr>\n",
       "    <tr>\n",
       "      <th>1</th>\n",
       "      <td>2</td>\n",
       "      <td>Henry IV</td>\n",
       "      <td>NaN</td>\n",
       "      <td>NaN</td>\n",
       "      <td>NaN</td>\n",
       "      <td>SCENE I. London. The palace.</td>\n",
       "    </tr>\n",
       "    <tr>\n",
       "      <th>2</th>\n",
       "      <td>3</td>\n",
       "      <td>Henry IV</td>\n",
       "      <td>NaN</td>\n",
       "      <td>NaN</td>\n",
       "      <td>NaN</td>\n",
       "      <td>Enter KING HENRY, LORD JOHN OF LANCASTER, the ...</td>\n",
       "    </tr>\n",
       "    <tr>\n",
       "      <th>3</th>\n",
       "      <td>4</td>\n",
       "      <td>Henry IV</td>\n",
       "      <td>1.0</td>\n",
       "      <td>1.1.1</td>\n",
       "      <td>KING HENRY IV</td>\n",
       "      <td>So shaken as we are, so wan with care,</td>\n",
       "    </tr>\n",
       "    <tr>\n",
       "      <th>4</th>\n",
       "      <td>5</td>\n",
       "      <td>Henry IV</td>\n",
       "      <td>1.0</td>\n",
       "      <td>1.1.2</td>\n",
       "      <td>KING HENRY IV</td>\n",
       "      <td>Find we a time for frighted peace to pant,</td>\n",
       "    </tr>\n",
       "    <tr>\n",
       "      <th>...</th>\n",
       "      <td>...</td>\n",
       "      <td>...</td>\n",
       "      <td>...</td>\n",
       "      <td>...</td>\n",
       "      <td>...</td>\n",
       "      <td>...</td>\n",
       "    </tr>\n",
       "    <tr>\n",
       "      <th>111391</th>\n",
       "      <td>111392</td>\n",
       "      <td>A Winters Tale</td>\n",
       "      <td>38.0</td>\n",
       "      <td>5.3.180</td>\n",
       "      <td>LEONTES</td>\n",
       "      <td>Lead us from hence, where we may leisurely</td>\n",
       "    </tr>\n",
       "    <tr>\n",
       "      <th>111392</th>\n",
       "      <td>111393</td>\n",
       "      <td>A Winters Tale</td>\n",
       "      <td>38.0</td>\n",
       "      <td>5.3.181</td>\n",
       "      <td>LEONTES</td>\n",
       "      <td>Each one demand an answer to his part</td>\n",
       "    </tr>\n",
       "    <tr>\n",
       "      <th>111393</th>\n",
       "      <td>111394</td>\n",
       "      <td>A Winters Tale</td>\n",
       "      <td>38.0</td>\n",
       "      <td>5.3.182</td>\n",
       "      <td>LEONTES</td>\n",
       "      <td>Perform'd in this wide gap of time since first</td>\n",
       "    </tr>\n",
       "    <tr>\n",
       "      <th>111394</th>\n",
       "      <td>111395</td>\n",
       "      <td>A Winters Tale</td>\n",
       "      <td>38.0</td>\n",
       "      <td>5.3.183</td>\n",
       "      <td>LEONTES</td>\n",
       "      <td>We were dissever'd: hastily lead away.</td>\n",
       "    </tr>\n",
       "    <tr>\n",
       "      <th>111395</th>\n",
       "      <td>111396</td>\n",
       "      <td>A Winters Tale</td>\n",
       "      <td>38.0</td>\n",
       "      <td>NaN</td>\n",
       "      <td>LEONTES</td>\n",
       "      <td>Exeunt</td>\n",
       "    </tr>\n",
       "  </tbody>\n",
       "</table>\n",
       "<p>111396 rows × 6 columns</p>\n",
       "</div>"
      ],
      "text/plain": [
       "        Dataline            Play  PlayerLinenumber ActSceneLine  \\\n",
       "0              1        Henry IV               NaN          NaN   \n",
       "1              2        Henry IV               NaN          NaN   \n",
       "2              3        Henry IV               NaN          NaN   \n",
       "3              4        Henry IV               1.0        1.1.1   \n",
       "4              5        Henry IV               1.0        1.1.2   \n",
       "...          ...             ...               ...          ...   \n",
       "111391    111392  A Winters Tale              38.0      5.3.180   \n",
       "111392    111393  A Winters Tale              38.0      5.3.181   \n",
       "111393    111394  A Winters Tale              38.0      5.3.182   \n",
       "111394    111395  A Winters Tale              38.0      5.3.183   \n",
       "111395    111396  A Winters Tale              38.0          NaN   \n",
       "\n",
       "               Player                                         PlayerLine  \n",
       "0                 NaN                                              ACT I  \n",
       "1                 NaN                       SCENE I. London. The palace.  \n",
       "2                 NaN  Enter KING HENRY, LORD JOHN OF LANCASTER, the ...  \n",
       "3       KING HENRY IV             So shaken as we are, so wan with care,  \n",
       "4       KING HENRY IV         Find we a time for frighted peace to pant,  \n",
       "...               ...                                                ...  \n",
       "111391        LEONTES         Lead us from hence, where we may leisurely  \n",
       "111392        LEONTES              Each one demand an answer to his part  \n",
       "111393        LEONTES     Perform'd in this wide gap of time since first  \n",
       "111394        LEONTES             We were dissever'd: hastily lead away.  \n",
       "111395        LEONTES                                             Exeunt  \n",
       "\n",
       "[111396 rows x 6 columns]"
      ]
     },
     "execution_count": 96,
     "metadata": {},
     "output_type": "execute_result"
    }
   ],
   "source": [
    "df_orig = pd.read_csv(\"../data/raw/Shakespeare_data.csv\")\n",
    "df_orig"
   ]
  },
  {
   "cell_type": "markdown",
   "metadata": {},
   "source": [
    "## Data Preparation and Cleaning\n",
    "### Removing Unknown 'Player' Rows\n",
    "Since we want to train/test against the 'Player' label, we shall remove all records where the Player attribute is NaN."
   ]
  },
  {
   "cell_type": "code",
   "execution_count": 97,
   "metadata": {},
   "outputs": [
    {
     "data": {
      "text/html": [
       "<div>\n",
       "<style scoped>\n",
       "    .dataframe tbody tr th:only-of-type {\n",
       "        vertical-align: middle;\n",
       "    }\n",
       "\n",
       "    .dataframe tbody tr th {\n",
       "        vertical-align: top;\n",
       "    }\n",
       "\n",
       "    .dataframe thead th {\n",
       "        text-align: right;\n",
       "    }\n",
       "</style>\n",
       "<table border=\"1\" class=\"dataframe\">\n",
       "  <thead>\n",
       "    <tr style=\"text-align: right;\">\n",
       "      <th></th>\n",
       "      <th>Dataline</th>\n",
       "      <th>Play</th>\n",
       "      <th>PlayerLinenumber</th>\n",
       "      <th>ActSceneLine</th>\n",
       "      <th>Player</th>\n",
       "      <th>PlayerLine</th>\n",
       "    </tr>\n",
       "  </thead>\n",
       "  <tbody>\n",
       "    <tr>\n",
       "      <th>3</th>\n",
       "      <td>4</td>\n",
       "      <td>Henry IV</td>\n",
       "      <td>1.0</td>\n",
       "      <td>1.1.1</td>\n",
       "      <td>KING HENRY IV</td>\n",
       "      <td>So shaken as we are, so wan with care,</td>\n",
       "    </tr>\n",
       "    <tr>\n",
       "      <th>4</th>\n",
       "      <td>5</td>\n",
       "      <td>Henry IV</td>\n",
       "      <td>1.0</td>\n",
       "      <td>1.1.2</td>\n",
       "      <td>KING HENRY IV</td>\n",
       "      <td>Find we a time for frighted peace to pant,</td>\n",
       "    </tr>\n",
       "    <tr>\n",
       "      <th>5</th>\n",
       "      <td>6</td>\n",
       "      <td>Henry IV</td>\n",
       "      <td>1.0</td>\n",
       "      <td>1.1.3</td>\n",
       "      <td>KING HENRY IV</td>\n",
       "      <td>And breathe short-winded accents of new broils</td>\n",
       "    </tr>\n",
       "    <tr>\n",
       "      <th>6</th>\n",
       "      <td>7</td>\n",
       "      <td>Henry IV</td>\n",
       "      <td>1.0</td>\n",
       "      <td>1.1.4</td>\n",
       "      <td>KING HENRY IV</td>\n",
       "      <td>To be commenced in strands afar remote.</td>\n",
       "    </tr>\n",
       "    <tr>\n",
       "      <th>7</th>\n",
       "      <td>8</td>\n",
       "      <td>Henry IV</td>\n",
       "      <td>1.0</td>\n",
       "      <td>1.1.5</td>\n",
       "      <td>KING HENRY IV</td>\n",
       "      <td>No more the thirsty entrance of this soil</td>\n",
       "    </tr>\n",
       "    <tr>\n",
       "      <th>...</th>\n",
       "      <td>...</td>\n",
       "      <td>...</td>\n",
       "      <td>...</td>\n",
       "      <td>...</td>\n",
       "      <td>...</td>\n",
       "      <td>...</td>\n",
       "    </tr>\n",
       "    <tr>\n",
       "      <th>111391</th>\n",
       "      <td>111392</td>\n",
       "      <td>A Winters Tale</td>\n",
       "      <td>38.0</td>\n",
       "      <td>5.3.180</td>\n",
       "      <td>LEONTES</td>\n",
       "      <td>Lead us from hence, where we may leisurely</td>\n",
       "    </tr>\n",
       "    <tr>\n",
       "      <th>111392</th>\n",
       "      <td>111393</td>\n",
       "      <td>A Winters Tale</td>\n",
       "      <td>38.0</td>\n",
       "      <td>5.3.181</td>\n",
       "      <td>LEONTES</td>\n",
       "      <td>Each one demand an answer to his part</td>\n",
       "    </tr>\n",
       "    <tr>\n",
       "      <th>111393</th>\n",
       "      <td>111394</td>\n",
       "      <td>A Winters Tale</td>\n",
       "      <td>38.0</td>\n",
       "      <td>5.3.182</td>\n",
       "      <td>LEONTES</td>\n",
       "      <td>Perform'd in this wide gap of time since first</td>\n",
       "    </tr>\n",
       "    <tr>\n",
       "      <th>111394</th>\n",
       "      <td>111395</td>\n",
       "      <td>A Winters Tale</td>\n",
       "      <td>38.0</td>\n",
       "      <td>5.3.183</td>\n",
       "      <td>LEONTES</td>\n",
       "      <td>We were dissever'd: hastily lead away.</td>\n",
       "    </tr>\n",
       "    <tr>\n",
       "      <th>111395</th>\n",
       "      <td>111396</td>\n",
       "      <td>A Winters Tale</td>\n",
       "      <td>38.0</td>\n",
       "      <td>NaN</td>\n",
       "      <td>LEONTES</td>\n",
       "      <td>Exeunt</td>\n",
       "    </tr>\n",
       "  </tbody>\n",
       "</table>\n",
       "<p>111389 rows × 6 columns</p>\n",
       "</div>"
      ],
      "text/plain": [
       "        Dataline            Play  PlayerLinenumber ActSceneLine  \\\n",
       "3              4        Henry IV               1.0        1.1.1   \n",
       "4              5        Henry IV               1.0        1.1.2   \n",
       "5              6        Henry IV               1.0        1.1.3   \n",
       "6              7        Henry IV               1.0        1.1.4   \n",
       "7              8        Henry IV               1.0        1.1.5   \n",
       "...          ...             ...               ...          ...   \n",
       "111391    111392  A Winters Tale              38.0      5.3.180   \n",
       "111392    111393  A Winters Tale              38.0      5.3.181   \n",
       "111393    111394  A Winters Tale              38.0      5.3.182   \n",
       "111394    111395  A Winters Tale              38.0      5.3.183   \n",
       "111395    111396  A Winters Tale              38.0          NaN   \n",
       "\n",
       "               Player                                      PlayerLine  \n",
       "3       KING HENRY IV          So shaken as we are, so wan with care,  \n",
       "4       KING HENRY IV      Find we a time for frighted peace to pant,  \n",
       "5       KING HENRY IV  And breathe short-winded accents of new broils  \n",
       "6       KING HENRY IV         To be commenced in strands afar remote.  \n",
       "7       KING HENRY IV       No more the thirsty entrance of this soil  \n",
       "...               ...                                             ...  \n",
       "111391        LEONTES      Lead us from hence, where we may leisurely  \n",
       "111392        LEONTES           Each one demand an answer to his part  \n",
       "111393        LEONTES  Perform'd in this wide gap of time since first  \n",
       "111394        LEONTES          We were dissever'd: hastily lead away.  \n",
       "111395        LEONTES                                          Exeunt  \n",
       "\n",
       "[111389 rows x 6 columns]"
      ]
     },
     "execution_count": 97,
     "metadata": {},
     "output_type": "execute_result"
    }
   ],
   "source": [
    "df = df_orig.dropna(subset=['Player'])\n",
    "df"
   ]
  },
  {
   "cell_type": "markdown",
   "metadata": {},
   "source": [
    "### Converting All Strings to Uppercase\n",
    "We shall convert all strings to uppercase to avoid confusion and ambiguity in our text analysis."
   ]
  },
  {
   "cell_type": "code",
   "execution_count": 98,
   "metadata": {},
   "outputs": [
    {
     "data": {
      "text/plain": [
       "['Play', 'ActSceneLine', 'Player', 'PlayerLine']"
      ]
     },
     "execution_count": 98,
     "metadata": {},
     "output_type": "execute_result"
    }
   ],
   "source": [
    "str_cols = list(df.dtypes[df.dtypes == 'object'].keys())\n",
    "str_cols"
   ]
  },
  {
   "cell_type": "code",
   "execution_count": 127,
   "metadata": {},
   "outputs": [
    {
     "name": "stderr",
     "output_type": "stream",
     "text": [
      "<ipython-input-127-388c02066ee7>:2: SettingWithCopyWarning: \n",
      "A value is trying to be set on a copy of a slice from a DataFrame.\n",
      "Try using .loc[row_indexer,col_indexer] = value instead\n",
      "\n",
      "See the caveats in the documentation: https://pandas.pydata.org/pandas-docs/stable/user_guide/indexing.html#returning-a-view-versus-a-copy\n",
      "  df[colname] = df[colname].str.upper()\n"
     ]
    },
    {
     "data": {
      "text/html": [
       "<div>\n",
       "<style scoped>\n",
       "    .dataframe tbody tr th:only-of-type {\n",
       "        vertical-align: middle;\n",
       "    }\n",
       "\n",
       "    .dataframe tbody tr th {\n",
       "        vertical-align: top;\n",
       "    }\n",
       "\n",
       "    .dataframe thead th {\n",
       "        text-align: right;\n",
       "    }\n",
       "</style>\n",
       "<table border=\"1\" class=\"dataframe\">\n",
       "  <thead>\n",
       "    <tr style=\"text-align: right;\">\n",
       "      <th></th>\n",
       "      <th>Dataline</th>\n",
       "      <th>Play</th>\n",
       "      <th>PlayerLinenumber</th>\n",
       "      <th>ActSceneLine</th>\n",
       "      <th>Player</th>\n",
       "      <th>PlayerLine</th>\n",
       "    </tr>\n",
       "  </thead>\n",
       "  <tbody>\n",
       "    <tr>\n",
       "      <th>3</th>\n",
       "      <td>4</td>\n",
       "      <td>HENRY IV</td>\n",
       "      <td>1.0</td>\n",
       "      <td>1.1.1</td>\n",
       "      <td>KING HENRY IV</td>\n",
       "      <td>SO SHAKEN AS WE ARE, SO WAN WITH CARE,</td>\n",
       "    </tr>\n",
       "    <tr>\n",
       "      <th>4</th>\n",
       "      <td>5</td>\n",
       "      <td>HENRY IV</td>\n",
       "      <td>1.0</td>\n",
       "      <td>1.1.2</td>\n",
       "      <td>KING HENRY IV</td>\n",
       "      <td>FIND WE A TIME FOR FRIGHTED PEACE TO PANT,</td>\n",
       "    </tr>\n",
       "    <tr>\n",
       "      <th>5</th>\n",
       "      <td>6</td>\n",
       "      <td>HENRY IV</td>\n",
       "      <td>1.0</td>\n",
       "      <td>1.1.3</td>\n",
       "      <td>KING HENRY IV</td>\n",
       "      <td>AND BREATHE SHORT-WINDED ACCENTS OF NEW BROILS</td>\n",
       "    </tr>\n",
       "    <tr>\n",
       "      <th>6</th>\n",
       "      <td>7</td>\n",
       "      <td>HENRY IV</td>\n",
       "      <td>1.0</td>\n",
       "      <td>1.1.4</td>\n",
       "      <td>KING HENRY IV</td>\n",
       "      <td>TO BE COMMENCED IN STRANDS AFAR REMOTE.</td>\n",
       "    </tr>\n",
       "    <tr>\n",
       "      <th>7</th>\n",
       "      <td>8</td>\n",
       "      <td>HENRY IV</td>\n",
       "      <td>1.0</td>\n",
       "      <td>1.1.5</td>\n",
       "      <td>KING HENRY IV</td>\n",
       "      <td>NO MORE THE THIRSTY ENTRANCE OF THIS SOIL</td>\n",
       "    </tr>\n",
       "    <tr>\n",
       "      <th>...</th>\n",
       "      <td>...</td>\n",
       "      <td>...</td>\n",
       "      <td>...</td>\n",
       "      <td>...</td>\n",
       "      <td>...</td>\n",
       "      <td>...</td>\n",
       "    </tr>\n",
       "    <tr>\n",
       "      <th>111391</th>\n",
       "      <td>111392</td>\n",
       "      <td>A WINTERS TALE</td>\n",
       "      <td>38.0</td>\n",
       "      <td>5.3.180</td>\n",
       "      <td>LEONTES</td>\n",
       "      <td>LEAD US FROM HENCE, WHERE WE MAY LEISURELY</td>\n",
       "    </tr>\n",
       "    <tr>\n",
       "      <th>111392</th>\n",
       "      <td>111393</td>\n",
       "      <td>A WINTERS TALE</td>\n",
       "      <td>38.0</td>\n",
       "      <td>5.3.181</td>\n",
       "      <td>LEONTES</td>\n",
       "      <td>EACH ONE DEMAND AN ANSWER TO HIS PART</td>\n",
       "    </tr>\n",
       "    <tr>\n",
       "      <th>111393</th>\n",
       "      <td>111394</td>\n",
       "      <td>A WINTERS TALE</td>\n",
       "      <td>38.0</td>\n",
       "      <td>5.3.182</td>\n",
       "      <td>LEONTES</td>\n",
       "      <td>PERFORM'D IN THIS WIDE GAP OF TIME SINCE FIRST</td>\n",
       "    </tr>\n",
       "    <tr>\n",
       "      <th>111394</th>\n",
       "      <td>111395</td>\n",
       "      <td>A WINTERS TALE</td>\n",
       "      <td>38.0</td>\n",
       "      <td>5.3.183</td>\n",
       "      <td>LEONTES</td>\n",
       "      <td>WE WERE DISSEVER'D: HASTILY LEAD AWAY.</td>\n",
       "    </tr>\n",
       "    <tr>\n",
       "      <th>111395</th>\n",
       "      <td>111396</td>\n",
       "      <td>A WINTERS TALE</td>\n",
       "      <td>38.0</td>\n",
       "      <td>NaN</td>\n",
       "      <td>LEONTES</td>\n",
       "      <td>EXEUNT</td>\n",
       "    </tr>\n",
       "  </tbody>\n",
       "</table>\n",
       "<p>111389 rows × 6 columns</p>\n",
       "</div>"
      ],
      "text/plain": [
       "        Dataline            Play  PlayerLinenumber ActSceneLine  \\\n",
       "3              4        HENRY IV               1.0        1.1.1   \n",
       "4              5        HENRY IV               1.0        1.1.2   \n",
       "5              6        HENRY IV               1.0        1.1.3   \n",
       "6              7        HENRY IV               1.0        1.1.4   \n",
       "7              8        HENRY IV               1.0        1.1.5   \n",
       "...          ...             ...               ...          ...   \n",
       "111391    111392  A WINTERS TALE              38.0      5.3.180   \n",
       "111392    111393  A WINTERS TALE              38.0      5.3.181   \n",
       "111393    111394  A WINTERS TALE              38.0      5.3.182   \n",
       "111394    111395  A WINTERS TALE              38.0      5.3.183   \n",
       "111395    111396  A WINTERS TALE              38.0          NaN   \n",
       "\n",
       "               Player                                      PlayerLine  \n",
       "3       KING HENRY IV          SO SHAKEN AS WE ARE, SO WAN WITH CARE,  \n",
       "4       KING HENRY IV      FIND WE A TIME FOR FRIGHTED PEACE TO PANT,  \n",
       "5       KING HENRY IV  AND BREATHE SHORT-WINDED ACCENTS OF NEW BROILS  \n",
       "6       KING HENRY IV         TO BE COMMENCED IN STRANDS AFAR REMOTE.  \n",
       "7       KING HENRY IV       NO MORE THE THIRSTY ENTRANCE OF THIS SOIL  \n",
       "...               ...                                             ...  \n",
       "111391        LEONTES      LEAD US FROM HENCE, WHERE WE MAY LEISURELY  \n",
       "111392        LEONTES           EACH ONE DEMAND AN ANSWER TO HIS PART  \n",
       "111393        LEONTES  PERFORM'D IN THIS WIDE GAP OF TIME SINCE FIRST  \n",
       "111394        LEONTES          WE WERE DISSEVER'D: HASTILY LEAD AWAY.  \n",
       "111395        LEONTES                                          EXEUNT  \n",
       "\n",
       "[111389 rows x 6 columns]"
      ]
     },
     "execution_count": 127,
     "metadata": {},
     "output_type": "execute_result"
    }
   ],
   "source": [
    "for colname in str_cols:\n",
    "    df[colname] = df[colname].str.upper()\n",
    "df"
   ]
  },
  {
   "cell_type": "markdown",
   "metadata": {},
   "source": [
    "## Understanding the Data\n",
    "### Querying Available Plays and Players\n",
    "First, we shall get the play names in our dataset."
   ]
  },
  {
   "cell_type": "code",
   "execution_count": 100,
   "metadata": {},
   "outputs": [
    {
     "name": "stdout",
     "output_type": "stream",
     "text": [
      "Number of plays:  36\n"
     ]
    }
   ],
   "source": [
    "play_series = df[df['Play'].shift() != df['Play']]['Play']\n",
    "play_names = list(play_series)\n",
    "print(\"Number of plays: \", play_series.count())"
   ]
  },
  {
   "cell_type": "markdown",
   "metadata": {},
   "source": [
    "Now, we run a query to get the available players."
   ]
  },
  {
   "cell_type": "code",
   "execution_count": null,
   "metadata": {},
   "outputs": [],
   "source": [
    "players_series = df['Player'].drop_duplicates()\n",
    "players = list(players_series)\n",
    "print(\"Number of players: \", players_series.count())"
   ]
  },
  {
   "cell_type": "code",
   "execution_count": null,
   "metadata": {},
   "outputs": [],
   "source": [
    "# Use df.groupby('Player') instead\n",
    "\n",
    "# accum = np.empty((players_series.count(),2), dtype='object')\n",
    "# i = 0\n",
    "# for player in players:\n",
    "#     accum[i]=[player,foldl(df['PlayerLine'][df['Player'] == player].values, lambda x, y: x + ' ' + y, '')]\n",
    "#     i+=1\n",
    "# pd.DataFrame(accum, columns=['Player','Words'])\n"
   ]
  },
  {
   "cell_type": "code",
   "execution_count": null,
   "metadata": {},
   "outputs": [],
   "source": [
    "# df.groupby('Player')"
   ]
  },
  {
   "cell_type": "markdown",
   "metadata": {},
   "source": [
    "## Feature Engineering\n",
    "To make our dataset more useful for training our model, we must perform transformations to our data. For each current feature in our dataset, we must look for ways to extract more meaningful information.\n",
    "\n",
    "### Coversion of 'ActSceneLine' values to a numerical value\n",
    "Currently, the 'ActSceneLine' column is an object type, and therefore will serve little purpose in our numerically-inclined model. Hence, we must map this feature to an equivalent numerical form. We shall achieve this by creating three new features: 'Act', 'Scene', and 'Line', where the data type for each is an integer value. See the example below."
   ]
  },
  {
   "cell_type": "code",
   "execution_count": 103,
   "metadata": {},
   "outputs": [
    {
     "data": {
      "text/plain": [
       "(3, 4, 27)"
      ]
     },
     "execution_count": 103,
     "metadata": {},
     "output_type": "execute_result"
    }
   ],
   "source": [
    "# Example\n",
    "actSceneLineConvert('3.4.27')"
   ]
  },
  {
   "cell_type": "markdown",
   "metadata": {},
   "source": [
    "Now, let us use this function that we defined to create our new features."
   ]
  },
  {
   "cell_type": "code",
   "execution_count": 104,
   "metadata": {},
   "outputs": [
    {
     "data": {
      "text/plain": [
       "3           1.1.1\n",
       "4           1.1.2\n",
       "5           1.1.3\n",
       "6           1.1.4\n",
       "7           1.1.5\n",
       "           ...   \n",
       "111391    5.3.180\n",
       "111392    5.3.181\n",
       "111393    5.3.182\n",
       "111394    5.3.183\n",
       "111395        NaN\n",
       "Name: ActSceneLine, Length: 111389, dtype: object"
      ]
     },
     "execution_count": 104,
     "metadata": {},
     "output_type": "execute_result"
    }
   ],
   "source": [
    "df['ActSceneLine']"
   ]
  },
  {
   "cell_type": "markdown",
   "metadata": {},
   "source": [
    "### Text Analysis\n",
    "Since this dataset's main source of classification potential lies in the text recognition, we shall use text vectorization methods to transform the text into numerical vector data, usable by our chosen model. We will perform the following high-level steps to accomplish this vectorization process:\n",
    "1. Define a vectorizer to be a ScikitLearn TF-IDF tokenizer class instance (Term frequency-inverse document frequency)\n",
    "2. Tokenize our input text\n",
    "    * We will specify the tokenizer to include single words, digrams, and trigrams as tokens\n",
    "    * This will help to capture the context of the characters' language in a vectorized numerical form\n",
    "3. Generate a new set of features to match the tokens found in all the text (from each row)\n",
    "4. Run the vectorizer capability on each row to fill the corresponding normalized token frequencies"
   ]
  },
  {
   "cell_type": "code",
   "execution_count": null,
   "metadata": {},
   "outputs": [],
   "source": [
    "tokenizer = TfidfVectorizer()"
   ]
  }
 ],
 "metadata": {
  "kernelspec": {
   "display_name": "Python 3",
   "language": "python",
   "name": "python3"
  },
  "language_info": {
   "codemirror_mode": {
    "name": "ipython",
    "version": 3
   },
   "file_extension": ".py",
   "mimetype": "text/x-python",
   "name": "python",
   "nbconvert_exporter": "python",
   "pygments_lexer": "ipython3",
   "version": "3.8.3"
  }
 },
 "nbformat": 4,
 "nbformat_minor": 4
}
